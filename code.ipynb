{
 "cells": [
  {
   "cell_type": "code",
   "execution_count": 3,
   "metadata": {},
   "outputs": [
    {
     "name": "stderr",
     "output_type": "stream",
     "text": [
      "/var/folders/pm/fzg0s97n2yg_zsj1tjmzprs80000gn/T/ipykernel_36432/3289243808.py:7: DeprecationWarning: executable_path has been deprecated, please pass in a Service object\n",
      "  driver = webdriver.Chrome(path)\n"
     ]
    },
    {
     "name": "stdout",
     "output_type": "stream",
     "text": [
      "           date       home_team  score       away_team\n",
      "0    05-08-2022  Crystal Palace  0 - 2         Arsenal\n",
      "1    13-08-2022         Arsenal  4 - 2       Leicester\n",
      "2    20-08-2022     Bournemouth  0 - 3         Arsenal\n",
      "3    27-08-2022         Arsenal  2 - 1          Fulham\n",
      "4    31-08-2022         Arsenal  2 - 1     Aston Villa\n",
      "..          ...             ...    ...             ...\n",
      "689  15-04-2023          Wolves  2 - 0       Brentford\n",
      "690  22-04-2023       Leicester  2 - 1          Wolves\n",
      "691  25-04-2023          Wolves  2 - 0  Crystal Palace\n",
      "692  29-04-2023        Brighton  6 - 0          Wolves\n",
      "693  06-05-2023          Wolves  ? - ?     Aston Villa\n",
      "\n",
      "[694 rows x 4 columns]\n"
     ]
    }
   ],
   "source": [
    "import time\n",
    "from selenium import webdriver\n",
    "from selenium.webdriver.common.by import By\n",
    "import pandas as pd\n",
    "website = 'https://www.adamchoi.co.uk/overs/detailed'\n",
    "path = '/Users/ngan/Downloads/Web scraping'\n",
    "driver = webdriver.Chrome(path)\n",
    "driver.get(website)\n",
    "xpath = '//label[@analytics-event=\"All matches\"]'\n",
    "try:\n",
    "    #source = driver.page_source\n",
    "    #print(source)\n",
    "    all_matches_button = driver.find_element(By.XPATH, xpath)\n",
    "    all_matches_button.click()\n",
    "    matches = driver.find_elements(By.TAG_NAME,'tr')\n",
    "    date = []\n",
    "    home_team = []\n",
    "    score = []\n",
    "    away_team = []\n",
    "    for match in matches:\n",
    "        date.append(match.find_element(By.XPATH, './td[1]').text)\n",
    "        home_team.append(match.find_element(By.XPATH, './td[2]').text)\n",
    "        score.append(match.find_element(By.XPATH, './td[3]').text)\n",
    "        away_team.append(match.find_element(By.XPATH, './td[4]').text)\n",
    "          \n",
    "except Exception as err:\n",
    "    print(err)\n",
    "    driver.quit()\n",
    "# driver.find_\n",
    "df= pd.DataFrame({'date':date, 'home_team': home_team,'score': score, 'away_team': away_team})\n",
    "df.to_csv('football_data.csv', index = False )\n",
    "print(df)\n",
    "\n",
    "\n",
    "\n",
    "#driver.get(website) "
   ]
  },
  {
   "cell_type": "code",
   "execution_count": null,
   "metadata": {},
   "outputs": [],
   "source": []
  }
 ],
 "metadata": {
  "kernelspec": {
   "display_name": "env",
   "language": "python",
   "name": "python3"
  },
  "language_info": {
   "codemirror_mode": {
    "name": "ipython",
    "version": 3
   },
   "file_extension": ".py",
   "mimetype": "text/x-python",
   "name": "python",
   "nbconvert_exporter": "python",
   "pygments_lexer": "ipython3",
   "version": "3.10.8"
  },
  "orig_nbformat": 4
 },
 "nbformat": 4,
 "nbformat_minor": 2
}
